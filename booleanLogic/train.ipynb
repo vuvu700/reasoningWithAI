{
 "cells": [
  {
   "cell_type": "code",
   "execution_count": 361,
   "id": "e54be074",
   "metadata": {},
   "outputs": [],
   "source": [
    "import torch\n",
    "import torch.nn as nn\n",
    "import matplotlib.pyplot as plt"
   ]
  },
  {
   "cell_type": "code",
   "execution_count": 362,
   "id": "eb40ea98",
   "metadata": {},
   "outputs": [],
   "source": [
    "from logic import PROBLEME_1, PROBLEME_2, ProblemeLogic_simple, _InstanceArr, _1D_bools\n",
    "from models import (\n",
    "    DenseModelsGeneric, train_model, eval_model, Results, \n",
    "    SimpleLogicDataset, DataLoader, )"
   ]
  },
  {
   "cell_type": "code",
   "execution_count": 363,
   "id": "1e2ea9c9",
   "metadata": {},
   "outputs": [],
   "source": [
    "device = torch.device(\"cpu\")"
   ]
  },
  {
   "cell_type": "code",
   "execution_count": 364,
   "id": "ed697f99",
   "metadata": {},
   "outputs": [
    {
     "name": "stdout",
     "output_type": "stream",
     "text": [
      "DenseModelsGeneric(\n",
      "  (_layers): Sequential(\n",
      "    (0): Linear(in_features=5, out_features=35, bias=True)\n",
      "    (1): ReLU()\n",
      "    (2): Linear(in_features=35, out_features=35, bias=True)\n",
      "    (3): ReLU()\n",
      "    (4): Linear(in_features=35, out_features=35, bias=True)\n",
      "    (5): ReLU()\n",
      "    (6): Linear(in_features=35, out_features=35, bias=True)\n",
      "    (7): ReLU()\n",
      "    (8): Linear(in_features=35, out_features=35, bias=True)\n",
      "    (9): ReLU()\n",
      "    (10): Linear(in_features=35, out_features=35, bias=True)\n",
      "    (11): ReLU()\n",
      "    (12): Linear(in_features=35, out_features=1, bias=True)\n",
      "    (13): Sigmoid()\n",
      "  )\n",
      "  (loss): HuberLoss()\n",
      ")\n"
     ]
    }
   ],
   "source": [
    "probleme = PROBLEME_2\n",
    "N = 35\n",
    "model = DenseModelsGeneric(\n",
    "    layers=[(probleme.nbInputs, N, \"relu\"), \n",
    "            *([(N, N, \"relu\")] * 5),\n",
    "            (N, 1, \"sigmoid\")], \n",
    "    optim=torch.optim.Adam, lr=0.001,\n",
    "    criterion=torch.nn.HuberLoss())\n",
    "print(model)"
   ]
  },
  {
   "cell_type": "code",
   "execution_count": 365,
   "id": "83956c5a",
   "metadata": {},
   "outputs": [],
   "source": [
    "dataset = SimpleLogicDataset.genAllFromProblem(probleme)"
   ]
  },
  {
   "cell_type": "code",
   "execution_count": 366,
   "id": "222d196b",
   "metadata": {},
   "outputs": [
    {
     "name": "stdout",
     "output_type": "stream",
     "text": [
      "len(dataset)=32\n",
      "nbTrue=11 -> 34.375000%\n"
     ]
    }
   ],
   "source": [
    "print(f\"{len(dataset)=}\")\n",
    "nbTrue=0\n",
    "for i in range(len(dataset)):\n",
    "    _=dataset[i]\n",
    "    #print(_)\n",
    "    nbTrue+=_[1]\n",
    "print(f\"{nbTrue=} -> {nbTrue/len(dataset):%}\")"
   ]
  },
  {
   "cell_type": "code",
   "execution_count": 367,
   "id": "9f663246",
   "metadata": {},
   "outputs": [
    {
     "name": "stdout",
     "output_type": "stream",
     "text": [
      "2 25 1 7\n"
     ]
    }
   ],
   "source": [
    "trainLoader, valLoader = dataset.getLoaders(\n",
    "    trainProp=0.8, trainBatchSize=16, valBatchSize=32)\n",
    "print(len(trainLoader), len(trainLoader.dataset), # type: ignore\n",
    "      len(valLoader), len(valLoader.dataset)) # type: ignore"
   ]
  },
  {
   "cell_type": "code",
   "execution_count": 368,
   "id": "8a162826",
   "metadata": {},
   "outputs": [],
   "source": [
    "histo: list[tuple[Results, Results]] = []"
   ]
  },
  {
   "cell_type": "code",
   "execution_count": 369,
   "id": "41be8967",
   "metadata": {},
   "outputs": [
    {
     "name": "stdout",
     "output_type": "stream",
     "text": [
      "Epoch 1, train: (loss: 0.125, accuracy: 40.00%), test: (loss: 0.1244, accuracy: 71.43%)\n",
      "Epoch 2, train: (loss: 0.1248, accuracy: 64.00%), test: (loss: 0.1239, accuracy: 71.43%)\n",
      "Epoch 3, train: (loss: 0.1242, accuracy: 64.00%), test: (loss: 0.1234, accuracy: 71.43%)\n",
      "Epoch 4, train: (loss: 0.1236, accuracy: 64.00%), test: (loss: 0.123, accuracy: 71.43%)\n",
      "Epoch 5, train: (loss: 0.1238, accuracy: 64.00%), test: (loss: 0.1224, accuracy: 71.43%)\n",
      "Epoch 6, train: (loss: 0.1236, accuracy: 64.00%), test: (loss: 0.1219, accuracy: 71.43%)\n",
      "Epoch 7, train: (loss: 0.1221, accuracy: 64.00%), test: (loss: 0.1214, accuracy: 71.43%)\n",
      "Epoch 8, train: (loss: 0.123, accuracy: 64.00%), test: (loss: 0.121, accuracy: 71.43%)\n",
      "Epoch 9, train: (loss: 0.1223, accuracy: 64.00%), test: (loss: 0.1205, accuracy: 71.43%)\n",
      "Epoch 10, train: (loss: 0.1219, accuracy: 64.00%), test: (loss: 0.12, accuracy: 71.43%)\n",
      "Epoch 11, train: (loss: 0.1223, accuracy: 64.00%), test: (loss: 0.1195, accuracy: 71.43%)\n",
      "Epoch 12, train: (loss: 0.1206, accuracy: 64.00%), test: (loss: 0.119, accuracy: 71.43%)\n",
      "Epoch 13, train: (loss: 0.121, accuracy: 64.00%), test: (loss: 0.1185, accuracy: 71.43%)\n",
      "Epoch 14, train: (loss: 0.1215, accuracy: 64.00%), test: (loss: 0.1179, accuracy: 71.43%)\n",
      "Epoch 15, train: (loss: 0.1185, accuracy: 64.00%), test: (loss: 0.1173, accuracy: 71.43%)\n",
      "Epoch 16, train: (loss: 0.1189, accuracy: 64.00%), test: (loss: 0.1167, accuracy: 71.43%)\n",
      "Epoch 17, train: (loss: 0.1207, accuracy: 64.00%), test: (loss: 0.116, accuracy: 71.43%)\n",
      "Epoch 18, train: (loss: 0.1214, accuracy: 64.00%), test: (loss: 0.1153, accuracy: 71.43%)\n",
      "Epoch 19, train: (loss: 0.1199, accuracy: 64.00%), test: (loss: 0.1146, accuracy: 71.43%)\n",
      "Epoch 20, train: (loss: 0.1196, accuracy: 64.00%), test: (loss: 0.1139, accuracy: 71.43%)\n",
      "Epoch 21, train: (loss: 0.1151, accuracy: 64.00%), test: (loss: 0.1131, accuracy: 71.43%)\n",
      "Epoch 22, train: (loss: 0.1203, accuracy: 64.00%), test: (loss: 0.1122, accuracy: 71.43%)\n",
      "Epoch 23, train: (loss: 0.12, accuracy: 64.00%), test: (loss: 0.1113, accuracy: 71.43%)\n",
      "Epoch 24, train: (loss: 0.1195, accuracy: 64.00%), test: (loss: 0.1103, accuracy: 71.43%)\n",
      "Epoch 25, train: (loss: 0.1157, accuracy: 64.00%), test: (loss: 0.1093, accuracy: 71.43%)\n",
      "Epoch 26, train: (loss: 0.1186, accuracy: 64.00%), test: (loss: 0.108, accuracy: 71.43%)\n",
      "Epoch 27, train: (loss: 0.1122, accuracy: 64.00%), test: (loss: 0.1066, accuracy: 71.43%)\n",
      "Epoch 28, train: (loss: 0.1111, accuracy: 64.00%), test: (loss: 0.1048, accuracy: 71.43%)\n",
      "Epoch 29, train: (loss: 0.1117, accuracy: 64.00%), test: (loss: 0.1028, accuracy: 71.43%)\n",
      "Epoch 30, train: (loss: 0.1133, accuracy: 64.00%), test: (loss: 0.1004, accuracy: 71.43%)\n",
      "Epoch 31, train: (loss: 0.1085, accuracy: 64.00%), test: (loss: 0.09764, accuracy: 71.43%)\n",
      "Epoch 32, train: (loss: 0.1065, accuracy: 64.00%), test: (loss: 0.09441, accuracy: 71.43%)\n",
      "Epoch 33, train: (loss: 0.1136, accuracy: 64.00%), test: (loss: 0.09107, accuracy: 71.43%)\n",
      "Epoch 34, train: (loss: 0.1108, accuracy: 64.00%), test: (loss: 0.08799, accuracy: 71.43%)\n",
      "Epoch 35, train: (loss: 0.09713, accuracy: 64.00%), test: (loss: 0.08479, accuracy: 71.43%)\n",
      "Epoch 36, train: (loss: 0.09601, accuracy: 64.00%), test: (loss: 0.08083, accuracy: 71.43%)\n",
      "Epoch 37, train: (loss: 0.09701, accuracy: 64.00%), test: (loss: 0.07626, accuracy: 71.43%)\n",
      "Epoch 38, train: (loss: 0.0859, accuracy: 64.00%), test: (loss: 0.07146, accuracy: 71.43%)\n",
      "Epoch 39, train: (loss: 0.08847, accuracy: 64.00%), test: (loss: 0.06629, accuracy: 71.43%)\n",
      "Epoch 40, train: (loss: 0.08089, accuracy: 64.00%), test: (loss: 0.06194, accuracy: 71.43%)\n",
      "Epoch 41, train: (loss: 0.07933, accuracy: 64.00%), test: (loss: 0.05829, accuracy: 71.43%)\n",
      "Epoch 42, train: (loss: 0.07862, accuracy: 64.00%), test: (loss: 0.05504, accuracy: 71.43%)\n",
      "Epoch 43, train: (loss: 0.06158, accuracy: 64.00%), test: (loss: 0.05356, accuracy: 71.43%)\n",
      "Epoch 44, train: (loss: 0.0667, accuracy: 64.00%), test: (loss: 0.05235, accuracy: 71.43%)\n",
      "Epoch 45, train: (loss: 0.06219, accuracy: 64.00%), test: (loss: 0.05038, accuracy: 71.43%)\n",
      "Epoch 46, train: (loss: 0.05964, accuracy: 64.00%), test: (loss: 0.04828, accuracy: 71.43%)\n",
      "Epoch 47, train: (loss: 0.05615, accuracy: 64.00%), test: (loss: 0.04588, accuracy: 71.43%)\n",
      "Epoch 48, train: (loss: 0.05485, accuracy: 72.00%), test: (loss: 0.04363, accuracy: 85.71%)\n",
      "Epoch 49, train: (loss: 0.04873, accuracy: 84.00%), test: (loss: 0.042, accuracy: 85.71%)\n",
      "Epoch 50, train: (loss: 0.04436, accuracy: 92.00%), test: (loss: 0.04038, accuracy: 100.00%)\n",
      "Epoch 51, train: (loss: 0.0449, accuracy: 100.00%), test: (loss: 0.03866, accuracy: 100.00%)\n",
      "Epoch 52, train: (loss: 0.04283, accuracy: 100.00%), test: (loss: 0.03705, accuracy: 100.00%)\n",
      "Epoch 53, train: (loss: 0.03862, accuracy: 100.00%), test: (loss: 0.03623, accuracy: 100.00%)\n",
      "Epoch 54, train: (loss: 0.03668, accuracy: 100.00%), test: (loss: 0.03656, accuracy: 85.71%)\n",
      "Epoch 55, train: (loss: 0.03659, accuracy: 100.00%), test: (loss: 0.03816, accuracy: 85.71%)\n",
      "Epoch 56, train: (loss: 0.03264, accuracy: 100.00%), test: (loss: 0.03539, accuracy: 85.71%)\n",
      "Epoch 57, train: (loss: 0.03052, accuracy: 100.00%), test: (loss: 0.03132, accuracy: 100.00%)\n",
      "Epoch 58, train: (loss: 0.0282, accuracy: 100.00%), test: (loss: 0.02756, accuracy: 100.00%)\n",
      "Epoch 59, train: (loss: 0.02614, accuracy: 100.00%), test: (loss: 0.02349, accuracy: 100.00%)\n",
      "Epoch 60, train: (loss: 0.0257, accuracy: 100.00%), test: (loss: 0.01981, accuracy: 100.00%)\n",
      "Epoch 61, train: (loss: 0.02139, accuracy: 100.00%), test: (loss: 0.01659, accuracy: 100.00%)\n",
      "Epoch 62, train: (loss: 0.01877, accuracy: 100.00%), test: (loss: 0.01337, accuracy: 100.00%)\n",
      "Epoch 63, train: (loss: 0.01262, accuracy: 100.00%), test: (loss: 0.01043, accuracy: 100.00%)\n",
      "Epoch 64, train: (loss: 0.009795, accuracy: 100.00%), test: (loss: 0.008182, accuracy: 100.00%)\n",
      "Epoch 65, train: (loss: 0.006687, accuracy: 100.00%), test: (loss: 0.006344, accuracy: 100.00%)\n",
      "Epoch 66, train: (loss: 0.004604, accuracy: 100.00%), test: (loss: 0.004986, accuracy: 100.00%)\n",
      "Epoch 67, train: (loss: 0.002779, accuracy: 100.00%), test: (loss: 0.003764, accuracy: 100.00%)\n",
      "Epoch 68, train: (loss: 0.001728, accuracy: 100.00%), test: (loss: 0.002945, accuracy: 100.00%)\n",
      "Epoch 69, train: (loss: 0.001257, accuracy: 100.00%), test: (loss: 0.002831, accuracy: 100.00%)\n",
      "Epoch 70, train: (loss: 0.0007265, accuracy: 100.00%), test: (loss: 0.003431, accuracy: 100.00%)\n",
      "Epoch 71, train: (loss: 0.0006082, accuracy: 100.00%), test: (loss: 0.00375, accuracy: 100.00%)\n",
      "Epoch 72, train: (loss: 0.0004862, accuracy: 100.00%), test: (loss: 0.00282, accuracy: 100.00%)\n",
      "Epoch 73, train: (loss: 0.0002828, accuracy: 100.00%), test: (loss: 0.001817, accuracy: 100.00%)\n",
      "Epoch 74, train: (loss: 0.0002654, accuracy: 100.00%), test: (loss: 0.001244, accuracy: 100.00%)\n",
      "Epoch 75, train: (loss: 0.0002819, accuracy: 100.00%), test: (loss: 0.001092, accuracy: 100.00%)\n",
      "Epoch 76, train: (loss: 0.0001797, accuracy: 100.00%), test: (loss: 0.00138, accuracy: 100.00%)\n",
      "Epoch 77, train: (loss: 0.0001189, accuracy: 100.00%), test: (loss: 0.001784, accuracy: 100.00%)\n",
      "Epoch 78, train: (loss: 0.0001271, accuracy: 100.00%), test: (loss: 0.002143, accuracy: 100.00%)\n",
      "Epoch 79, train: (loss: 0.000132, accuracy: 100.00%), test: (loss: 0.002103, accuracy: 100.00%)\n",
      "Epoch 80, train: (loss: 8.496e-05, accuracy: 100.00%), test: (loss: 0.001747, accuracy: 100.00%)\n",
      "Epoch 81, train: (loss: 9.288e-05, accuracy: 100.00%), test: (loss: 0.001424, accuracy: 100.00%)\n",
      "Epoch 82, train: (loss: 6.826e-05, accuracy: 100.00%), test: (loss: 0.001134, accuracy: 100.00%)\n",
      "Epoch 83, train: (loss: 5.414e-05, accuracy: 100.00%), test: (loss: 0.0009282, accuracy: 100.00%)\n",
      "Epoch 84, train: (loss: 5.298e-05, accuracy: 100.00%), test: (loss: 0.0008319, accuracy: 100.00%)\n",
      "Epoch 85, train: (loss: 5.009e-05, accuracy: 100.00%), test: (loss: 0.0007926, accuracy: 100.00%)\n",
      "Epoch 86, train: (loss: 5.131e-05, accuracy: 100.00%), test: (loss: 0.0008199, accuracy: 100.00%)\n",
      "Epoch 87, train: (loss: 3.744e-05, accuracy: 100.00%), test: (loss: 0.0009245, accuracy: 100.00%)\n",
      "Epoch 88, train: (loss: 4.618e-05, accuracy: 100.00%), test: (loss: 0.00104, accuracy: 100.00%)\n",
      "Epoch 89, train: (loss: 3.593e-05, accuracy: 100.00%), test: (loss: 0.001169, accuracy: 100.00%)\n",
      "Epoch 90, train: (loss: 3.236e-05, accuracy: 100.00%), test: (loss: 0.001314, accuracy: 100.00%)\n",
      "Epoch 91, train: (loss: 3.905e-05, accuracy: 100.00%), test: (loss: 0.001419, accuracy: 100.00%)\n",
      "Epoch 92, train: (loss: 3.363e-05, accuracy: 100.00%), test: (loss: 0.001406, accuracy: 100.00%)\n",
      "Epoch 93, train: (loss: 3.778e-05, accuracy: 100.00%), test: (loss: 0.001388, accuracy: 100.00%)\n",
      "Epoch 94, train: (loss: 2.583e-05, accuracy: 100.00%), test: (loss: 0.001307, accuracy: 100.00%)\n",
      "Epoch 95, train: (loss: 2.593e-05, accuracy: 100.00%), test: (loss: 0.001224, accuracy: 100.00%)\n",
      "Epoch 96, train: (loss: 2.689e-05, accuracy: 100.00%), test: (loss: 0.001139, accuracy: 100.00%)\n",
      "Epoch 97, train: (loss: 2.465e-05, accuracy: 100.00%), test: (loss: 0.001079, accuracy: 100.00%)\n",
      "Epoch 98, train: (loss: 2.342e-05, accuracy: 100.00%), test: (loss: 0.001023, accuracy: 100.00%)\n",
      "Epoch 99, train: (loss: 2.208e-05, accuracy: 100.00%), test: (loss: 0.0009647, accuracy: 100.00%)\n",
      "Epoch 100, train: (loss: 2.008e-05, accuracy: 100.00%), test: (loss: 0.0009276, accuracy: 100.00%)\n",
      "Epoch 101, train: (loss: 1.806e-05, accuracy: 100.00%), test: (loss: 0.0008971, accuracy: 100.00%)\n",
      "Epoch 102, train: (loss: 2.383e-05, accuracy: 100.00%), test: (loss: 0.0008818, accuracy: 100.00%)\n",
      "Epoch 103, train: (loss: 2.289e-05, accuracy: 100.00%), test: (loss: 0.0008785, accuracy: 100.00%)\n",
      "Epoch 104, train: (loss: 1.831e-05, accuracy: 100.00%), test: (loss: 0.000875, accuracy: 100.00%)\n",
      "Epoch 105, train: (loss: 1.638e-05, accuracy: 100.00%), test: (loss: 0.0008901, accuracy: 100.00%)\n",
      "Epoch 106, train: (loss: 1.805e-05, accuracy: 100.00%), test: (loss: 0.0009054, accuracy: 100.00%)\n",
      "Epoch 107, train: (loss: 1.752e-05, accuracy: 100.00%), test: (loss: 0.0009247, accuracy: 100.00%)\n",
      "Epoch 108, train: (loss: 1.992e-05, accuracy: 100.00%), test: (loss: 0.0009438, accuracy: 100.00%)\n",
      "Epoch 109, train: (loss: 1.99e-05, accuracy: 100.00%), test: (loss: 0.0009486, accuracy: 100.00%)\n",
      "Epoch 110, train: (loss: 1.553e-05, accuracy: 100.00%), test: (loss: 0.0009385, accuracy: 100.00%)\n",
      "Epoch 111, train: (loss: 1.767e-05, accuracy: 100.00%), test: (loss: 0.0009354, accuracy: 100.00%)\n",
      "Epoch 112, train: (loss: 1.578e-05, accuracy: 100.00%), test: (loss: 0.0009239, accuracy: 100.00%)\n",
      "Epoch 113, train: (loss: 1.767e-05, accuracy: 100.00%), test: (loss: 0.0009208, accuracy: 100.00%)\n",
      "Epoch 114, train: (loss: 1.609e-05, accuracy: 100.00%), test: (loss: 0.0009073, accuracy: 100.00%)\n",
      "Epoch 115, train: (loss: 1.827e-05, accuracy: 100.00%), test: (loss: 0.0008934, accuracy: 100.00%)\n",
      "Epoch 116, train: (loss: 1.592e-05, accuracy: 100.00%), test: (loss: 0.0008854, accuracy: 100.00%)\n",
      "Epoch 117, train: (loss: 1.475e-05, accuracy: 100.00%), test: (loss: 0.0008751, accuracy: 100.00%)\n",
      "Epoch 118, train: (loss: 1.428e-05, accuracy: 100.00%), test: (loss: 0.0008845, accuracy: 100.00%)\n",
      "Epoch 119, train: (loss: 1.562e-05, accuracy: 100.00%), test: (loss: 0.0009121, accuracy: 100.00%)\n",
      "Epoch 120, train: (loss: 1.274e-05, accuracy: 100.00%), test: (loss: 0.0009227, accuracy: 100.00%)\n"
     ]
    }
   ],
   "source": [
    "res = train_model(\n",
    "    model, model.optim, model.loss, nbEpoches=120, device=device, \n",
    "    train_dataloader=trainLoader, test_dataloader=valLoader, history=histo)"
   ]
  },
  {
   "cell_type": "code",
   "execution_count": 370,
   "id": "a9fe9a4e",
   "metadata": {},
   "outputs": [
    {
     "data": {
      "image/png": "[encoded data removed]",
      "text/plain": [
       "<Figure size 640x480 with 2 Axes>"
      ]
     },
     "metadata": {},
     "output_type": "display_data"
    }
   ],
   "source": [
    "def cell():\n",
    "    fig, (ax0, ax1) = plt.subplots(ncols=1, nrows=2, sharex=True)\n",
    "    epoches = list(range(1, 1+len(histo)))\n",
    "    ax0.plot(epoches, [r.loss for r, _ in histo], label=\"loss_train\")\n",
    "    ax0.plot(epoches, [r.loss for _, r in histo], \"--\", label=\"loss_test\")\n",
    "    ax0.grid(True)\n",
    "    ax0.legend()\n",
    "    \n",
    "    ax1.plot(epoches, [r.accuracy for r, _ in histo], label=\"accuracy_train\")\n",
    "    ax1.plot(epoches, [r.accuracy for _, r in histo], \"--\", label=\"accuracy_test\")\n",
    "    ax1.set_ylim(-0.05, 1.05)\n",
    "    ax1.hlines(0.5, -1, len(histo)+1, colors=\"gray\", linestyles=\"--\", linewidth=1)\n",
    "    ax1.grid(True)\n",
    "    ax1.legend()    \n",
    "cell(); del cell"
   ]
  },
  {
   "cell_type": "code",
   "execution_count": null,
   "id": "0a5b018c",
   "metadata": {},
   "outputs": [],
   "source": []
  }
 ],
 "metadata": {
  "kernelspec": {
   "display_name": "Python 3",
   "language": "python",
   "name": "python3"
  },
  "language_info": {
   "codemirror_mode": {
    "name": "ipython",
    "version": 3
   },
   "file_extension": ".py",
   "mimetype": "text/x-python",
   "name": "python",
   "nbconvert_exporter": "python",
   "pygments_lexer": "ipython3",
   "version": "3.12.4"
  }
 },
 "nbformat": 4,
 "nbformat_minor": 5
}
